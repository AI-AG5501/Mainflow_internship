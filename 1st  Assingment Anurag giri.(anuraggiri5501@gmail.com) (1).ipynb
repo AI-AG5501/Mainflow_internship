{
 "cells": [
  {
   "cell_type": "markdown",
   "id": "6edd33e1",
   "metadata": {},
   "source": [
    "# List"
   ]
  },
  {
   "cell_type": "code",
   "execution_count": 27,
   "id": "2d1d6f98",
   "metadata": {},
   "outputs": [],
   "source": [
    "lst=[1,2,3,4]  #creating a list.\n",
    "lst.append(5) #adding element in list."
   ]
  },
  {
   "cell_type": "code",
   "execution_count": 28,
   "id": "4a03280a",
   "metadata": {},
   "outputs": [
    {
     "data": {
      "text/plain": [
       "[1, 2, 3, 4, 5]"
      ]
     },
     "execution_count": 28,
     "metadata": {},
     "output_type": "execute_result"
    }
   ],
   "source": [
    "lst"
   ]
  },
  {
   "cell_type": "code",
   "execution_count": 29,
   "id": "e744cc61",
   "metadata": {},
   "outputs": [],
   "source": [
    "lst.remove(3) #removing an element from list."
   ]
  },
  {
   "cell_type": "code",
   "execution_count": 30,
   "id": "ee7c0ec7",
   "metadata": {},
   "outputs": [
    {
     "data": {
      "text/plain": [
       "[1, 2, 4, 5]"
      ]
     },
     "execution_count": 30,
     "metadata": {},
     "output_type": "execute_result"
    }
   ],
   "source": [
    "lst"
   ]
  },
  {
   "cell_type": "code",
   "execution_count": 31,
   "id": "2fa40fa2",
   "metadata": {},
   "outputs": [],
   "source": [
    "lst[1]=3 #modifying list\n",
    "lst[2]=0"
   ]
  },
  {
   "cell_type": "code",
   "execution_count": 32,
   "id": "496cccda",
   "metadata": {},
   "outputs": [
    {
     "data": {
      "text/plain": [
       "[1, 3, 0, 5]"
      ]
     },
     "execution_count": 32,
     "metadata": {},
     "output_type": "execute_result"
    }
   ],
   "source": [
    "lst"
   ]
  },
  {
   "cell_type": "code",
   "execution_count": 33,
   "id": "ea6e9f83",
   "metadata": {},
   "outputs": [
    {
     "name": "stdout",
     "output_type": "stream",
     "text": [
      "New list after modification: [1, 3, 0, 5]\n"
     ]
    }
   ],
   "source": [
    "print(\"New list after modification:\",lst)"
   ]
  },
  {
   "cell_type": "markdown",
   "id": "90bc591c",
   "metadata": {},
   "source": [
    "# Dictionary"
   ]
  },
  {
   "cell_type": "code",
   "execution_count": 10,
   "id": "c652c304",
   "metadata": {},
   "outputs": [],
   "source": [
    "dict_1={'name':'Arun','class':'5th','roll no':23,'age':12} #creating a dictionary"
   ]
  },
  {
   "cell_type": "code",
   "execution_count": 11,
   "id": "41c55b9f",
   "metadata": {},
   "outputs": [],
   "source": [
    "dict_1['weight']=30 #adding element in list."
   ]
  },
  {
   "cell_type": "code",
   "execution_count": 12,
   "id": "40dc2661",
   "metadata": {},
   "outputs": [
    {
     "data": {
      "text/plain": [
       "{'name': 'Arun', 'class': '5th', 'roll no': 23, 'age': 12, 'weight': 30}"
      ]
     },
     "execution_count": 12,
     "metadata": {},
     "output_type": "execute_result"
    }
   ],
   "source": [
    "dict_1"
   ]
  },
  {
   "cell_type": "code",
   "execution_count": 13,
   "id": "d7385275",
   "metadata": {},
   "outputs": [
    {
     "data": {
      "text/plain": [
       "12"
      ]
     },
     "execution_count": 13,
     "metadata": {},
     "output_type": "execute_result"
    }
   ],
   "source": [
    "dict_1.pop('age') #removing key value pair from the dictionary."
   ]
  },
  {
   "cell_type": "code",
   "execution_count": 14,
   "id": "73f09416",
   "metadata": {},
   "outputs": [
    {
     "data": {
      "text/plain": [
       "{'name': 'Arun', 'class': '5th', 'roll no': 23, 'weight': 30}"
      ]
     },
     "execution_count": 14,
     "metadata": {},
     "output_type": "execute_result"
    }
   ],
   "source": [
    "dict_1"
   ]
  },
  {
   "cell_type": "code",
   "execution_count": 15,
   "id": "8b86a228",
   "metadata": {},
   "outputs": [],
   "source": [
    "dict_1['weight']=34 #modifying the dictionary."
   ]
  },
  {
   "cell_type": "code",
   "execution_count": 16,
   "id": "950cb0e0",
   "metadata": {},
   "outputs": [
    {
     "name": "stdout",
     "output_type": "stream",
     "text": [
      "{'name': 'Arun', 'class': '5th', 'roll no': 23, 'weight': 34}\n"
     ]
    }
   ],
   "source": [
    "print(dict_1)"
   ]
  },
  {
   "cell_type": "code",
   "execution_count": 17,
   "id": "e30b2097",
   "metadata": {},
   "outputs": [
    {
     "name": "stdout",
     "output_type": "stream",
     "text": [
      "New dictionary after modification: {'name': 'Arun', 'class': '5th', 'roll no': 23, 'weight': 34}\n"
     ]
    }
   ],
   "source": [
    "print(\"New dictionary after modification:\",dict_1)"
   ]
  },
  {
   "cell_type": "markdown",
   "id": "b96c9bda",
   "metadata": {},
   "source": [
    "# Set"
   ]
  },
  {
   "cell_type": "code",
   "execution_count": 19,
   "id": "7850c88c",
   "metadata": {},
   "outputs": [],
   "source": [
    "set_1={2,4,6,8,10,12,14,16,18,20} #creating a set."
   ]
  },
  {
   "cell_type": "code",
   "execution_count": 20,
   "id": "da53e4e5",
   "metadata": {},
   "outputs": [],
   "source": [
    "set_1.add(22) #adding element in set."
   ]
  },
  {
   "cell_type": "code",
   "execution_count": 21,
   "id": "13fdb847",
   "metadata": {},
   "outputs": [
    {
     "data": {
      "text/plain": [
       "{2, 4, 6, 8, 10, 12, 14, 16, 18, 20, 22}"
      ]
     },
     "execution_count": 21,
     "metadata": {},
     "output_type": "execute_result"
    }
   ],
   "source": [
    "set_1"
   ]
  },
  {
   "cell_type": "code",
   "execution_count": 22,
   "id": "d063ad1d",
   "metadata": {},
   "outputs": [],
   "source": [
    "set_1.remove(18) #removing element from list."
   ]
  },
  {
   "cell_type": "code",
   "execution_count": 23,
   "id": "076c9f73",
   "metadata": {},
   "outputs": [
    {
     "data": {
      "text/plain": [
       "{2, 4, 6, 8, 10, 12, 14, 16, 20, 22}"
      ]
     },
     "execution_count": 23,
     "metadata": {},
     "output_type": "execute_result"
    }
   ],
   "source": [
    "set_1"
   ]
  },
  {
   "cell_type": "code",
   "execution_count": 24,
   "id": "0671cc1a",
   "metadata": {},
   "outputs": [],
   "source": [
    "set_1.update({'python'}) #modifying a set."
   ]
  },
  {
   "cell_type": "code",
   "execution_count": 25,
   "id": "05537ef2",
   "metadata": {},
   "outputs": [
    {
     "data": {
      "text/plain": [
       "{10, 12, 14, 16, 2, 20, 22, 4, 6, 8, 'python'}"
      ]
     },
     "execution_count": 25,
     "metadata": {},
     "output_type": "execute_result"
    }
   ],
   "source": [
    "set_1"
   ]
  },
  {
   "cell_type": "code",
   "execution_count": 26,
   "id": "a418b4dd",
   "metadata": {},
   "outputs": [
    {
     "name": "stdout",
     "output_type": "stream",
     "text": [
      "New set after modification: {2, 4, 6, 8, 10, 12, 14, 16, 20, 'python', 22}\n"
     ]
    }
   ],
   "source": [
    "print(\"New set after modification:\",set_1)"
   ]
  },
  {
   "cell_type": "code",
   "execution_count": null,
   "id": "f84b860e",
   "metadata": {},
   "outputs": [],
   "source": []
  }
 ],
 "metadata": {
  "kernelspec": {
   "display_name": "Python 3 (ipykernel)",
   "language": "python",
   "name": "python3"
  },
  "language_info": {
   "codemirror_mode": {
    "name": "ipython",
    "version": 3
   },
   "file_extension": ".py",
   "mimetype": "text/x-python",
   "name": "python",
   "nbconvert_exporter": "python",
   "pygments_lexer": "ipython3",
   "version": "3.11.4"
  }
 },
 "nbformat": 4,
 "nbformat_minor": 5
}
