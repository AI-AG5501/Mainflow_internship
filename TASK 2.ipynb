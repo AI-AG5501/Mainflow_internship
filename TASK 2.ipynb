{
 "cells": [
  {
   "cell_type": "markdown",
   "id": "10f1b667",
   "metadata": {},
   "source": [
    "# Task 2"
   ]
  },
  {
   "cell_type": "code",
   "execution_count": 1,
   "id": "6139fd27",
   "metadata": {},
   "outputs": [],
   "source": [
    "import pandas as pd  #importing pandas library."
   ]
  },
  {
   "cell_type": "code",
   "execution_count": 3,
   "id": "d0ad4fbf",
   "metadata": {},
   "outputs": [],
   "source": [
    "df_frd=pd.read_csv('Payment_Data.csv') #Loading  dataset."
   ]
  },
  {
   "cell_type": "code",
   "execution_count": 8,
   "id": "ad4e0f2e",
   "metadata": {},
   "outputs": [
    {
     "data": {
      "text/html": [
       "<div>\n",
       "<style scoped>\n",
       "    .dataframe tbody tr th:only-of-type {\n",
       "        vertical-align: middle;\n",
       "    }\n",
       "\n",
       "    .dataframe tbody tr th {\n",
       "        vertical-align: top;\n",
       "    }\n",
       "\n",
       "    .dataframe thead th {\n",
       "        text-align: right;\n",
       "    }\n",
       "</style>\n",
       "<table border=\"1\" class=\"dataframe\">\n",
       "  <thead>\n",
       "    <tr style=\"text-align: right;\">\n",
       "      <th></th>\n",
       "      <th>accountAgeDays</th>\n",
       "      <th>numItems</th>\n",
       "      <th>localTime</th>\n",
       "      <th>paymentMethodAgeDays</th>\n",
       "      <th>isWeekend</th>\n",
       "      <th>label</th>\n",
       "    </tr>\n",
       "  </thead>\n",
       "  <tbody>\n",
       "    <tr>\n",
       "      <th>count</th>\n",
       "      <td>39221.000000</td>\n",
       "      <td>39221.000000</td>\n",
       "      <td>39221.000000</td>\n",
       "      <td>39221.000000</td>\n",
       "      <td>38661.000000</td>\n",
       "      <td>39221.000000</td>\n",
       "    </tr>\n",
       "    <tr>\n",
       "      <th>mean</th>\n",
       "      <td>857.563984</td>\n",
       "      <td>1.084751</td>\n",
       "      <td>4.748232</td>\n",
       "      <td>122.641326</td>\n",
       "      <td>0.499547</td>\n",
       "      <td>0.014278</td>\n",
       "    </tr>\n",
       "    <tr>\n",
       "      <th>std</th>\n",
       "      <td>804.788212</td>\n",
       "      <td>0.566899</td>\n",
       "      <td>0.389360</td>\n",
       "      <td>283.569177</td>\n",
       "      <td>0.500006</td>\n",
       "      <td>0.118636</td>\n",
       "    </tr>\n",
       "    <tr>\n",
       "      <th>min</th>\n",
       "      <td>1.000000</td>\n",
       "      <td>1.000000</td>\n",
       "      <td>0.421214</td>\n",
       "      <td>0.000000</td>\n",
       "      <td>0.000000</td>\n",
       "      <td>0.000000</td>\n",
       "    </tr>\n",
       "    <tr>\n",
       "      <th>25%</th>\n",
       "      <td>72.000000</td>\n",
       "      <td>1.000000</td>\n",
       "      <td>4.742303</td>\n",
       "      <td>0.000000</td>\n",
       "      <td>0.000000</td>\n",
       "      <td>0.000000</td>\n",
       "    </tr>\n",
       "    <tr>\n",
       "      <th>50%</th>\n",
       "      <td>603.000000</td>\n",
       "      <td>1.000000</td>\n",
       "      <td>4.886641</td>\n",
       "      <td>0.012500</td>\n",
       "      <td>0.000000</td>\n",
       "      <td>0.000000</td>\n",
       "    </tr>\n",
       "    <tr>\n",
       "      <th>75%</th>\n",
       "      <td>1804.000000</td>\n",
       "      <td>1.000000</td>\n",
       "      <td>4.962055</td>\n",
       "      <td>87.510417</td>\n",
       "      <td>1.000000</td>\n",
       "      <td>0.000000</td>\n",
       "    </tr>\n",
       "    <tr>\n",
       "      <th>max</th>\n",
       "      <td>2000.000000</td>\n",
       "      <td>29.000000</td>\n",
       "      <td>5.040929</td>\n",
       "      <td>1999.580556</td>\n",
       "      <td>1.000000</td>\n",
       "      <td>1.000000</td>\n",
       "    </tr>\n",
       "  </tbody>\n",
       "</table>\n",
       "</div>"
      ],
      "text/plain": [
       "       accountAgeDays      numItems     localTime  paymentMethodAgeDays  \\\n",
       "count    39221.000000  39221.000000  39221.000000          39221.000000   \n",
       "mean       857.563984      1.084751      4.748232            122.641326   \n",
       "std        804.788212      0.566899      0.389360            283.569177   \n",
       "min          1.000000      1.000000      0.421214              0.000000   \n",
       "25%         72.000000      1.000000      4.742303              0.000000   \n",
       "50%        603.000000      1.000000      4.886641              0.012500   \n",
       "75%       1804.000000      1.000000      4.962055             87.510417   \n",
       "max       2000.000000     29.000000      5.040929           1999.580556   \n",
       "\n",
       "          isWeekend         label  \n",
       "count  38661.000000  39221.000000  \n",
       "mean       0.499547      0.014278  \n",
       "std        0.500006      0.118636  \n",
       "min        0.000000      0.000000  \n",
       "25%        0.000000      0.000000  \n",
       "50%        0.000000      0.000000  \n",
       "75%        1.000000      0.000000  \n",
       "max        1.000000      1.000000  "
      ]
     },
     "execution_count": 8,
     "metadata": {},
     "output_type": "execute_result"
    }
   ],
   "source": [
    "df_frd.describe() #getting statistics about data."
   ]
  },
  {
   "cell_type": "code",
   "execution_count": 9,
   "id": "d6da8b3c",
   "metadata": {},
   "outputs": [
    {
     "data": {
      "text/plain": [
       "accountAgeDays            0\n",
       "numItems                  0\n",
       "localTime                 0\n",
       "paymentMethod             0\n",
       "paymentMethodAgeDays      0\n",
       "Category                 95\n",
       "isWeekend               560\n",
       "label                     0\n",
       "dtype: int64"
      ]
     },
     "execution_count": 9,
     "metadata": {},
     "output_type": "execute_result"
    }
   ],
   "source": [
    "df_frd.isna().sum() #finding null values."
   ]
  },
  {
   "cell_type": "code",
   "execution_count": 10,
   "id": "0b88b184",
   "metadata": {},
   "outputs": [
    {
     "data": {
      "text/html": [
       "<div>\n",
       "<style scoped>\n",
       "    .dataframe tbody tr th:only-of-type {\n",
       "        vertical-align: middle;\n",
       "    }\n",
       "\n",
       "    .dataframe tbody tr th {\n",
       "        vertical-align: top;\n",
       "    }\n",
       "\n",
       "    .dataframe thead th {\n",
       "        text-align: right;\n",
       "    }\n",
       "</style>\n",
       "<table border=\"1\" class=\"dataframe\">\n",
       "  <thead>\n",
       "    <tr style=\"text-align: right;\">\n",
       "      <th></th>\n",
       "      <th>Total</th>\n",
       "      <th>Percent</th>\n",
       "    </tr>\n",
       "  </thead>\n",
       "  <tbody>\n",
       "    <tr>\n",
       "      <th>isWeekend</th>\n",
       "      <td>560</td>\n",
       "      <td>0.014278</td>\n",
       "    </tr>\n",
       "    <tr>\n",
       "      <th>Category</th>\n",
       "      <td>95</td>\n",
       "      <td>0.002422</td>\n",
       "    </tr>\n",
       "    <tr>\n",
       "      <th>accountAgeDays</th>\n",
       "      <td>0</td>\n",
       "      <td>0.000000</td>\n",
       "    </tr>\n",
       "    <tr>\n",
       "      <th>numItems</th>\n",
       "      <td>0</td>\n",
       "      <td>0.000000</td>\n",
       "    </tr>\n",
       "    <tr>\n",
       "      <th>localTime</th>\n",
       "      <td>0</td>\n",
       "      <td>0.000000</td>\n",
       "    </tr>\n",
       "  </tbody>\n",
       "</table>\n",
       "</div>"
      ],
      "text/plain": [
       "                Total   Percent\n",
       "isWeekend         560  0.014278\n",
       "Category           95  0.002422\n",
       "accountAgeDays      0  0.000000\n",
       "numItems            0  0.000000\n",
       "localTime           0  0.000000"
      ]
     },
     "execution_count": 10,
     "metadata": {},
     "output_type": "execute_result"
    }
   ],
   "source": [
    "#missing data percentage.\n",
    "total = df_frd.isnull().sum().sort_values(ascending=False)\n",
    "percent = (df_frd.isnull().sum()/df_frd.isnull().count()).sort_values(ascending=False)\n",
    "missing_data = pd.concat([total, percent], axis=1, keys=['Total', 'Percent'])\n",
    "missing_data.head()"
   ]
  },
  {
   "cell_type": "code",
   "execution_count": 11,
   "id": "05df3b28",
   "metadata": {},
   "outputs": [],
   "source": [
    "#handling missing data.\n",
    "from sklearn.impute import SimpleImputer\n",
    "imputer=SimpleImputer(strategy='most_frequent')\n",
    "imputed=imputer.fit_transform(df_frd[['isWeekend','Category']])\n",
    "df_frd['isWeekend']=imputed[:,0]\n",
    "df_frd['Category']=imputed[:,1]"
   ]
  },
  {
   "cell_type": "code",
   "execution_count": 12,
   "id": "c9aaba3d",
   "metadata": {},
   "outputs": [
    {
     "data": {
      "text/plain": [
       "accountAgeDays          0\n",
       "numItems                0\n",
       "localTime               0\n",
       "paymentMethod           0\n",
       "paymentMethodAgeDays    0\n",
       "Category                0\n",
       "isWeekend               0\n",
       "label                   0\n",
       "dtype: int64"
      ]
     },
     "execution_count": 12,
     "metadata": {},
     "output_type": "execute_result"
    }
   ],
   "source": [
    "df_frd.isna().sum() # again checking for null values."
   ]
  },
  {
   "cell_type": "code",
   "execution_count": null,
   "id": "87a813f8",
   "metadata": {},
   "outputs": [],
   "source": []
  }
 ],
 "metadata": {
  "kernelspec": {
   "display_name": "Python 3 (ipykernel)",
   "language": "python",
   "name": "python3"
  },
  "language_info": {
   "codemirror_mode": {
    "name": "ipython",
    "version": 3
   },
   "file_extension": ".py",
   "mimetype": "text/x-python",
   "name": "python",
   "nbconvert_exporter": "python",
   "pygments_lexer": "ipython3",
   "version": "3.11.4"
  }
 },
 "nbformat": 4,
 "nbformat_minor": 5
}
